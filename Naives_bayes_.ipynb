{
  "nbformat": 4,
  "nbformat_minor": 0,
  "metadata": {
    "colab": {
      "name": "Naives bayes .ipynb",
      "provenance": [],
      "authorship_tag": "ABX9TyMdQzPcVzSGMdj0VEdSngml",
      "include_colab_link": true
    },
    "kernelspec": {
      "name": "python3",
      "display_name": "Python 3"
    },
    "language_info": {
      "name": "python"
    }
  },
  "cells": [
    {
      "cell_type": "markdown",
      "metadata": {
        "id": "view-in-github",
        "colab_type": "text"
      },
      "source": [
        "<a href=\"https://colab.research.google.com/github/syibrahima31/Machine_Learning_From_Scratch/blob/master/Naives_bayes_.ipynb\" target=\"_parent\"><img src=\"https://colab.research.google.com/assets/colab-badge.svg\" alt=\"Open In Colab\"/></a>"
      ]
    },
    {
      "cell_type": "code",
      "metadata": {
        "id": "wOMTibFw__50"
      },
      "source": [
        "import numpy as np \n",
        "import matplotlib.pyplot as plt \n",
        "from sklearn.datasets import make_classification\n",
        "from sklearn.model_selection import train_test_split"
      ],
      "execution_count": 7,
      "outputs": []
    },
    {
      "cell_type": "markdown",
      "metadata": {
        "id": "1vxrRkiWAkzQ"
      },
      "source": [
        "####  DATA PREPARATION "
      ]
    },
    {
      "cell_type": "code",
      "metadata": {
        "id": "gfiPiS-IAN1g"
      },
      "source": [
        "# create dataset  \n",
        "X, y = make_classification(n_samples = 400, n_features= 10 , n_classes =2 )\n",
        "\n",
        "# devide the dataset \n",
        "X_train, X_test, y_train, y_test = train_test_split(X, y , test_size = 0.2 , random_state = 1234)"
      ],
      "execution_count": 99,
      "outputs": []
    },
    {
      "cell_type": "markdown",
      "metadata": {
        "id": "44vwCtOw0Bop"
      },
      "source": [
        "#### CREATE THE MODEL "
      ]
    },
    {
      "cell_type": "code",
      "metadata": {
        "id": "jGiEIkBnBKbH"
      },
      "source": [
        "class NaiveBayes:\n",
        "  def  fit(self,x_train, y_train):\n",
        "    self.X = X \n",
        "    self.y = y \n",
        "\n",
        "    n_samples , n_features = self.X.shape\n",
        "    self.classes = np.unique(self.y)\n",
        "    n_classes = len(self.classes)\n",
        "\n",
        "    # initialize the matrix of mean , var and prior  for each variable \n",
        "    self.mean = np.zeros((n_classes, n_features), dtype = np.float64)\n",
        "    self.var  = np.zeros((n_classes, n_features), dtype = np.float64)\n",
        "    self.prior = np.zeros( (n_classes, ), dtype = np.float64)\n",
        "\n",
        "\n",
        "    for label in self.classes :\n",
        "      X_label = self.X[self.y==label]\n",
        "\n",
        "      self.mean[label] = X_label.mean( axis= 0)\n",
        "      self.var[label] = X_label.var( axis= 0)\n",
        "      self.prior[label] = len(X_label) / n_samples\n",
        "\n",
        "\n",
        "\n",
        "  def predict(self, X_test):\n",
        "     pred = [ self._predict(x) for x in X_test  ]\n",
        "\n",
        "     return np.array(pred)\n",
        "\n",
        "\n",
        "  def _predict (self, obs):\n",
        "\n",
        "    posteriors = []\n",
        "\n",
        "    for label in self.classes: \n",
        "      prior_k = self.prior[label]\n",
        "      mean_k = self.mean[label]\n",
        "      var_k = self.var[label]\n",
        "\n",
        "      likelihood =  self._pdf(obs, mean_k, var_k)\n",
        "\n",
        "      posterior_k = np.log(likelihood).sum()  +  np.log(prior_k)\n",
        "      posteriors.append(posterior_k)\n",
        "\n",
        "\n",
        "    return self.classes[np.argmax(posteriors)]\n",
        "\n",
        "\n",
        "\n",
        "\n",
        "  def _pdf(self, x, mu, var ):\n",
        "\n",
        "    return (1/ np.sqrt(2*np.pi* var)) * np.exp(-(x- mu)**2 / (2*var))\n",
        "\n"
      ],
      "execution_count": 100,
      "outputs": []
    },
    {
      "cell_type": "markdown",
      "metadata": {
        "id": "H3ATL1fQ0Ohk"
      },
      "source": [
        "#### TEST THE MODEL "
      ]
    },
    {
      "cell_type": "code",
      "metadata": {
        "id": "zjXLZgUZBoHs"
      },
      "source": [
        "model = NaiveBayes()\n",
        "model.fit(X_train, y_train)\n",
        "pred = model.predict(X_test)\n"
      ],
      "execution_count": 104,
      "outputs": []
    },
    {
      "cell_type": "code",
      "metadata": {
        "colab": {
          "base_uri": "https://localhost:8080/"
        },
        "id": "BwfPf12ZENhB",
        "outputId": "a0212f63-1fa4-485a-b401-844de3d22b25"
      },
      "source": [
        "# calculate accuracy in test set \n",
        "acc = (y_test == pred ).sum() / 80\n",
        "print(f\" accuracy of test set ->  {acc: .2f} %\")"
      ],
      "execution_count": 109,
      "outputs": [
        {
          "output_type": "stream",
          "text": [
            " accuracy of test set ->   0.96 %\n"
          ],
          "name": "stdout"
        }
      ]
    },
    {
      "cell_type": "code",
      "metadata": {
        "id": "YJi2-wngE1jC"
      },
      "source": [
        "\n"
      ],
      "execution_count": 103,
      "outputs": []
    },
    {
      "cell_type": "code",
      "metadata": {
        "colab": {
          "base_uri": "https://localhost:8080/"
        },
        "id": "lGo6Gj25E5L2",
        "outputId": "5e0e3337-c785-4ecd-9e77-ff15af85165a"
      },
      "source": [
        ""
      ],
      "execution_count": 98,
      "outputs": [
        {
          "output_type": "execute_result",
          "data": {
            "text/plain": [
              "0.975"
            ]
          },
          "metadata": {
            "tags": []
          },
          "execution_count": 98
        }
      ]
    },
    {
      "cell_type": "code",
      "metadata": {
        "id": "ztb73ZN4HKc9"
      },
      "source": [
        ""
      ],
      "execution_count": 103,
      "outputs": []
    }
  ]
}