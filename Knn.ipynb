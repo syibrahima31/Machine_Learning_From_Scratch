{
  "nbformat": 4,
  "nbformat_minor": 0,
  "metadata": {
    "colab": {
      "name": "Knn.ipynb",
      "provenance": [],
      "authorship_tag": "ABX9TyObjDhvJosyhhmq2qbySGu9",
      "include_colab_link": true
    },
    "kernelspec": {
      "name": "python3",
      "display_name": "Python 3"
    }
  },
  "cells": [
    {
      "cell_type": "markdown",
      "metadata": {
        "id": "view-in-github",
        "colab_type": "text"
      },
      "source": [
        "<a href=\"https://colab.research.google.com/github/syibrahima31/Machine_Learning_From_Scratch/blob/master/Knn.ipynb\" target=\"_parent\"><img src=\"https://colab.research.google.com/assets/colab-badge.svg\" alt=\"Open In Colab\"/></a>"
      ]
    },
    {
      "cell_type": "markdown",
      "metadata": {
        "id": "nLPilY9eBpuH"
      },
      "source": [
        "## Import modules "
      ]
    },
    {
      "cell_type": "code",
      "metadata": {
        "id": "oQRsxiCbBPDk"
      },
      "source": [
        "\r\n",
        "import numpy as np \r\n",
        "import matplotlib.pyplot as plt \r\n",
        "from collections import Counter\r\n",
        "from sklearn.datasets import load_iris\r\n",
        "from sklearn.model_selection import train_test_split\r\n"
      ],
      "execution_count": 88,
      "outputs": []
    },
    {
      "cell_type": "markdown",
      "metadata": {
        "id": "2ulX9ZxHG0q0"
      },
      "source": [
        "## Import the dataset \r\n"
      ]
    },
    {
      "cell_type": "code",
      "metadata": {
        "id": "ndYZj0idHWk6"
      },
      "source": [
        "iris_dataset = load_iris()\r\n",
        "data, target  = iris_dataset.data, iris_dataset.target\r\n",
        "x_train, x_test, y_train, y_test = train_test_split(data, target, test_size=0.33, random_state = 42)"
      ],
      "execution_count": 91,
      "outputs": []
    },
    {
      "cell_type": "markdown",
      "metadata": {
        "id": "CC_lRpMD_P8O"
      },
      "source": [
        "## Cerate the model KNN "
      ]
    },
    {
      "cell_type": "code",
      "metadata": {
        "id": "C1h0JW_WBw7V"
      },
      "source": [
        "class KNN:\r\n",
        "\r\n",
        "  def __init__(self, k):\r\n",
        "    \"\"\"\r\n",
        "    k : represent the number of neighbors \r\n",
        "    \"\"\"\r\n",
        "    self.k = k \r\n",
        "\r\n",
        "\r\n",
        "\r\n",
        "  def fit(self, x_train, y_train):\r\n",
        "    self.X = x_train\r\n",
        "    self.y = y_train\r\n",
        "\r\n",
        "\r\n",
        "  def euclid_dist (self, a, b):\r\n",
        "    return   np.sqrt(np.sum((a-b)**2))\r\n",
        "\r\n",
        "\r\n",
        "  def _predict(self, obs):\r\n",
        "    distance = [self.euclid_dist(obs,x) for x in self.X]\r\n",
        "    distance = np.array(distance)  \r\n",
        "    index = distance.argsort()\r\n",
        "    k_neighbors = self.y[index][:self.k]\r\n",
        "    counter = Counter(k_neighbors)\r\n",
        "    pred = counter.most_common()[0][0]\r\n",
        "    return pred\r\n",
        "\r\n",
        "\r\n",
        "  def  predict(self, X):\r\n",
        "    predictions = [self._predict(x) for x in X]\r\n",
        "    return np.array(predictions)   \r\n",
        "\r\n",
        "\r\n",
        "\r\n",
        "  def score(self, X_test, y_test):\r\n",
        "    predictions = self.predict(X_test)\r\n",
        "    acc = ((predictions==y_test).sum()) / y_test.shape[0]\r\n",
        "    return acc"
      ],
      "execution_count": 84,
      "outputs": []
    },
    {
      "cell_type": "code",
      "metadata": {
        "id": "ZKw-TNe84zPJ"
      },
      "source": [
        "# "
      ],
      "execution_count": 85,
      "outputs": []
    },
    {
      "cell_type": "code",
      "metadata": {
        "id": "frNOxD__7Q4B"
      },
      "source": [
        " L_train = []\r\n",
        " L_test =  []\r\n",
        " for i in range(1, 100):\r\n",
        "   model = KNN(i)\r\n",
        "   model.fit(x_train, y_train)\r\n",
        "   score_train = model.score(x_train, y_train)\r\n",
        "   score_test =  model.score(x_test, y_test)\r\n",
        "   L_train.append(score_train)\r\n",
        "   L_test.append(score_test)"
      ],
      "execution_count": 100,
      "outputs": []
    },
    {
      "cell_type": "code",
      "metadata": {
        "colab": {
          "base_uri": "https://localhost:8080/",
          "height": 445
        },
        "id": "1mXsSv527haT",
        "outputId": "463be8f4-41af-4e1a-c71c-bff2e2007fd1"
      },
      "source": [
        "plt.figure(figsize=(10,7 ))\r\n",
        "plt.plot(range(1, 100), L_train, label = \"accuracy train\")\r\n",
        "plt.plot(range(1, 100), L_test, label = \"accuracy test\")\r\n",
        "plt.legend()"
      ],
      "execution_count": 110,
      "outputs": [
        {
          "output_type": "execute_result",
          "data": {
            "text/plain": [
              "<matplotlib.legend.Legend at 0x7f4547bae5d0>"
            ]
          },
          "metadata": {
            "tags": []
          },
          "execution_count": 110
        },
        {
          "output_type": "display_data",
          "data": {
            "image/png": "[encoded data removed]",
            "text/plain": [
              "<Figure size 720x504 with 1 Axes>"
            ]
          },
          "metadata": {
            "tags": [],
            "needs_background": "light"
          }
        }
      ]
    },
    {
      "cell_type": "code",
      "metadata": {
        "id": "SLnNnXMyDScY"
      },
      "source": [
        ""
      ],
      "execution_count": null,
      "outputs": []
    }
  ]
}